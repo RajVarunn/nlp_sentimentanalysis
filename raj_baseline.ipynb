{
 "cells": [
  {
   "cell_type": "code",
   "execution_count": null,
   "metadata": {},
   "outputs": [],
   "source": [
    "# features & labels\n",
    "x=df['tweet']\n",
    "y=df['class']\n",
    "# Split the Dataset\n",
    "x_train,x_test,y_train,y_test=train_test_split(x,y,test_size=0.2,random_state=42)"
   ]
  },
  {
   "cell_type": "code",
   "execution_count": null,
   "metadata": {},
   "outputs": [],
   "source": [
    "# Create a pipeline with Count Vectorizer and Multinomial Naive Bayes classifier\n",
    "pipe_nb_cv = Pipeline(steps=[\n",
    "    ('cv', CountVectorizer()),\n",
    "    ('nb', MultinomialNB())\n",
    "])\n",
    "# Create a pipeline with Tfidf Vectorizer and Multinomial Naive Bayes classifier\n",
    "pipe_nb_tfidf = Pipeline(steps=[\n",
    "    ('tfidf', TfidfVectorizer()),\n",
    "    ('nb', MultinomialNB())\n",
    "])\n",
    "# Create a pipeline with Count Vectorizer and Logistic Regression classifier \n",
    "pipe_lr_cv = Pipeline(steps=[\n",
    "    ('cv', CountVectorizer()),\n",
    "    ('lr', LogisticRegression())\n",
    "])\n",
    "# Create a pipeline with Tfidf Vectorizer and Logistic Regression classifier\n",
    "pipe_lr_tfidf = Pipeline(steps=[\n",
    "    ('tfidf',TfidfVectorizer()),\n",
    "    ('lr', LogisticRegression())\n",
    "])\n",
    "# Create a pipeline with Count Vectorizer and RandomForest Classifier\n",
    "pipe_rf_cv = Pipeline([\n",
    "    ('cv', CountVectorizer()),\n",
    "    ('rf', RandomForestClassifier())\n",
    "])\n",
    "# Create a pipeline with Tfidf Vectorizer and RandomForest Classifier\n",
    "pipe_rf_tfidf = Pipeline([\n",
    "    ('tfidf', TfidfVectorizer()),\n",
    "    ('rf', RandomForestClassifier())\n",
    "])\n",
    "# Create a pipeline with CountVectorizer and SVM\n",
    "pipe_svm_cv = Pipeline([\n",
    "    ('cv', CountVectorizer()),\n",
    "    ('svm', SVC(kernel='linear', C=1))\n",
    "])\n",
    "# Create a pipelin with Tfidf Vectorizer and SVM\n",
    "pipe_svm_tfidf = Pipeline([\n",
    "    ('tfidf', TfidfVectorizer()),\n",
    "    ('svm', SVC(kernel='linear', C=1))\n",
    "])"
   ]
  },
  {
   "cell_type": "code",
   "execution_count": null,
   "metadata": {},
   "outputs": [],
   "source": [
    "pipe_nb_cv.fit(x_train,y_train)\n",
    "pipe_nb_cv.score(x_test,y_test)"
   ]
  },
  {
   "cell_type": "code",
   "execution_count": null,
   "metadata": {},
   "outputs": [],
   "source": [
    "pipe_nb_tfidf.fit(x_train,y_train)\n",
    "pipe_nb_tfidf.score(x_test,y_test)"
   ]
  },
  {
   "cell_type": "code",
   "execution_count": null,
   "metadata": {},
   "outputs": [],
   "source": [
    "pipe_lr_cv.fit(x_train,y_train)\n",
    "pipe_lr_cv.score(x_test,y_test)"
   ]
  },
  {
   "cell_type": "code",
   "execution_count": null,
   "metadata": {},
   "outputs": [],
   "source": [
    "pipe_lr_tfidf.fit(x_train,y_train)\n",
    "pipe_lr_tfidf.score(x_test,y_test)"
   ]
  },
  {
   "cell_type": "code",
   "execution_count": null,
   "metadata": {},
   "outputs": [],
   "source": [
    "pipe_rf_cv.fit(x_train,y_train)\n",
    "pipe_rf_cv.score(x_test,y_test)"
   ]
  },
  {
   "cell_type": "code",
   "execution_count": null,
   "metadata": {},
   "outputs": [],
   "source": [
    "pipe_rf_tfidf.fit(x_train,y_train)\n",
    "pipe_rf_tfidf.score(x_test,y_test)"
   ]
  },
  {
   "cell_type": "code",
   "execution_count": null,
   "metadata": {},
   "outputs": [],
   "source": [
    "pipe_svm_cv.fit(x_train,y_train)\n",
    "pipe_svm_cv.score(x_test,y_test)"
   ]
  },
  {
   "cell_type": "code",
   "execution_count": null,
   "metadata": {},
   "outputs": [],
   "source": [
    "pipe_svm_tfidf.fit(x_train,y_train)\n",
    "pipe_svm_tfidf.score(x_test,y_test)"
   ]
  }
 ],
 "metadata": {
  "language_info": {
   "name": "python"
  }
 },
 "nbformat": 4,
 "nbformat_minor": 2
}
